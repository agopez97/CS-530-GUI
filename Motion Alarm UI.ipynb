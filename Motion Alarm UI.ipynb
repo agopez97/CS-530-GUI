{
 "cells": [
  {
   "cell_type": "code",
   "execution_count": 23,
   "id": "f904f09b",
   "metadata": {},
   "outputs": [
    {
     "name": "stdout",
     "output_type": "stream",
     "text": [
      "test1\n",
      "test2\n",
      "t1\n",
      "\n"
     ]
    }
   ],
   "source": [
    "import PySimpleGUI as sg\n",
    "import os.path\n",
    "import sys\n",
    "\n",
    "\n",
    "sg.theme('Dark Grey 9')\n",
    "layout = [[sg.Text(\"Pick an option:\")], \n",
    "          [sg.Button(\"User Info\"), sg.Button(\"Logs\")], \n",
    "          [sg.Button(\"Exit\")]]\n",
    "\n",
    "UILayout = [[sg.Text(\"User Information\")],\n",
    "            [sg.Text(\"Enter Name:\"), sg.InputText(), sg.Button(\"Save Name\")],\n",
    "            [sg.Text(\"Enter Phone Number: \"), sg.InputText(), sg.Button(\"Save Number\")],\n",
    "            [sg.Button(\"Exit\")]]\n",
    "\n",
    "LogsLayout = [[sg.Text('File to open')],\n",
    "              [sg.In(), sg.FileBrowse()],\n",
    "              [sg.Button(\"Open\"), sg.Button(\"Exit\")]]\n",
    "\n",
    "app = sg.Window(\"Motion Alarm\", layout)\n",
    "\n",
    "def openUI(layout):\n",
    "    UIWindow = sg.Window(\"Info\",layout)\n",
    "    while True:\n",
    "        event, values = UIWindow.read()\n",
    "        \n",
    "        \n",
    "        if event == \"Save Name\":\n",
    "            strValue = str(values[0])\n",
    "            with open('ProjName.txt', 'a') as name:\n",
    "                name.write(strValue)\n",
    "                name.write('\\n')\n",
    "                name.close\n",
    "                \n",
    "        if event == \"Save Number\":\n",
    "            strValue = str(values[1])\n",
    "            with open('ProjNum.txt', 'a') as num:\n",
    "                num.write(strValue)\n",
    "                num.write('\\n')\n",
    "                num.close\n",
    "\n",
    "                \n",
    "        if event == \"Exit\":\n",
    "            break\n",
    "    UIWindow.close()\n",
    "\n",
    "def openLogs(layout):\n",
    "    LogsWindow = sg.Window(\"Logs\", layout)\n",
    "    while True:\n",
    "        event, values = LogsWindow.read()\n",
    "        if event == \"Open\":\n",
    "            with open(values[0],'r') as log:\n",
    "                contents = log.read()\n",
    "                print(contents)\n",
    "                log.close()\n",
    "        \n",
    "        if event == \"Exit\":\n",
    "            break\n",
    "    LogsWindow.close()\n",
    "          \n",
    "        \n",
    "        \n",
    "        \n",
    "##### MAIN BRANCH ######\n",
    "while True:\n",
    "    event, values = app.read()\n",
    "    if event == \"User Info\":\n",
    "        openUI(UILayout)\n",
    "\n",
    "    if event == \"Logs\":\n",
    "        openLogs(LogsLayout)\n",
    "        \n",
    "    if event == \"Exit\":\n",
    "        break\n",
    "app.close()"
   ]
  },
  {
   "cell_type": "code",
   "execution_count": null,
   "id": "aaabef76",
   "metadata": {},
   "outputs": [],
   "source": []
  }
 ],
 "metadata": {
  "kernelspec": {
   "display_name": "Python 3 (ipykernel)",
   "language": "python",
   "name": "python3"
  },
  "language_info": {
   "codemirror_mode": {
    "name": "ipython",
    "version": 3
   },
   "file_extension": ".py",
   "mimetype": "text/x-python",
   "name": "python",
   "nbconvert_exporter": "python",
   "pygments_lexer": "ipython3",
   "version": "3.9.7"
  }
 },
 "nbformat": 4,
 "nbformat_minor": 5
}
